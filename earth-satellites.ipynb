{
 "metadata": {
  "name": "",
  "signature": "sha256:b7d685108b5229a5806ddc09c1350a8787b347e3ade2f4b54ef8ca79a88ec066"
 },
 "nbformat": 3,
 "nbformat_minor": 0,
 "worksheets": [
  {
   "cells": [
    {
     "cell_type": "code",
     "collapsed": false,
     "input": [
      "%pylab inline"
     ],
     "language": "python",
     "metadata": {},
     "outputs": []
    },
    {
     "cell_type": "code",
     "collapsed": false,
     "input": [
      "#elements = \"\"\"ISS (ZARYA)             \n",
      "#1 25544U 98067A   13330.58127943  .00000814  00000-0  21834-4 0  1064\n",
      "#2 25544  51.6484  23.7537 0001246  74.1647  18.7420 15.50540527859894\n",
      "#\"\"\""
     ],
     "language": "python",
     "metadata": {},
     "outputs": []
    },
    {
     "cell_type": "code",
     "collapsed": false,
     "input": [
      "#from skyfield.api import earth\n",
      "#topos = earth.topos('75 W', '35 N')\n",
      "#sat = earth.satellite(elements.splitlines())"
     ],
     "language": "python",
     "metadata": {},
     "outputs": []
    },
    {
     "cell_type": "code",
     "collapsed": false,
     "input": [
      "from matplotlib.dates import HourLocator, DateFormatter\n",
      "from datetime import datetime\n",
      "\n",
      "#from datetime import datetime\n",
      "#d = datetime(2014, 1, 1, 21, 30)\n",
      "#p = topos(d).observe(sat)\n",
      "#alt, az, distance = p.altaz()\n",
      "#print('Altitude: {}'.format(alt))\n",
      "#print('Azimuth: {}'.format(az))\n",
      "#print('Distance: {}'.format(distance.km))"
     ],
     "language": "python",
     "metadata": {},
     "outputs": []
    },
    {
     "cell_type": "code",
     "collapsed": false,
     "input": [
      "from skyfield.api import JulianDate, earth, utc\n",
      "\n",
      "tle = \"\"\"\n",
      "GOCE                    \n",
      "1 34602U 09013A   13314.96046236  .14220718  20669-5  50412-4 0   930\n",
      "2 34602 096.5717 344.5256 0009826 296.2811 064.0942 16.58673376272979\n",
      "\"\"\"\n",
      "sat = earth.satellite(tle)\n",
      "print(sat.epoch.utc_jpl())"
     ],
     "language": "python",
     "metadata": {},
     "outputs": []
    },
    {
     "cell_type": "code",
     "collapsed": false,
     "input": [
      "year, month, day, hour, minute, second = sat.epoch.utc\n",
      "offsets = [100, 200, 300, 400, 500, 600]\n",
      "offsets = range(-10000, 10000)\n",
      "jd = JulianDate(utc=(year, month, day, hour, minute + offsets))\n",
      "geocentric = sat.gcrs(jd)"
     ],
     "language": "python",
     "metadata": {},
     "outputs": []
    },
    {
     "cell_type": "code",
     "collapsed": false,
     "input": [
      "ra, dec, distance = geocentric.radec()"
     ],
     "language": "python",
     "metadata": {},
     "outputs": []
    },
    {
     "cell_type": "code",
     "collapsed": false,
     "input": [
      "print(jd.shape)\n",
      "print(jd.utc_jpl()[10000 + 3500])\n",
      "print(jd.utc_jpl()[11506])\n",
      "print(distance.km[11506])\n",
      "print(earth.radius)\n",
      "print(geocentric.sgp4_error[10000-2000])"
     ],
     "language": "python",
     "metadata": {},
     "outputs": []
    },
    {
     "cell_type": "code",
     "collapsed": false,
     "input": [
      "altitude = distance.km - earth.radius.km\n",
      "utc, leapsecond = jd.utc_datetime()\n",
      "plot(utc, altitude)\n",
      "\n",
      "epoch, leapsecond = sat.epoch.utc_datetime()\n",
      "#reentry = JulianDate(utc=(2013, 11, 11, 0, 16))\n",
      "reentry = (2013, 11, 11, 0, 16)\n",
      "for t, label in [(epoch, 'TLE epoch'),\n",
      "                 (reentry, 'Re-entry')]:\n",
      "    jd = JulianDate(t)\n",
      "    ra, dec, distance2 = sat.gcrs(jd).radec()\n",
      "    x, leapsecond = jd.utc_datetime()\n",
      "    y = distance2.km - earth.radius.km\n",
      "    plot(x, y, 'ro')\n",
      "    text(x, y + 10, label)\n",
      "\n",
      "xaxis = axes().xaxis\n",
      "xaxis.set_major_locator(HourLocator([0]))\n",
      "xaxis.set_minor_locator(HourLocator([0, 12]))\n",
      "xaxis.set_major_formatter(DateFormatter('\\n%a %d'))\n",
      "xaxis.set_minor_formatter(DateFormatter('%Hh'))"
     ],
     "language": "python",
     "metadata": {},
     "outputs": []
    },
    {
     "cell_type": "code",
     "collapsed": false,
     "input": [
      "altitude = distance.km - earth.radius.km\n",
      "plot(offsets, altitude)\n",
      "plot(offsets[10000], altitude[10000], 'yo')\n",
      "plot(offsets[11506], altitude[11506], 'ro')\n",
      "#text(offsets[10000], distance.km[10000] - earth.radius.km, 'yo')\n",
      "#help(text)\n",
      "#plot([offsets[8000], offsets[-5000]], [earth.radius.km, earth.radius.km], 'g')\n",
      "#ylim(earth.radius.km, None)\n",
      "text(offsets[10000], altitude[10000] + 10, 'TLE epoch')\n",
      "text(offsets[11506], altitude[11506] + 10, 'Actual re-entry')"
     ],
     "language": "python",
     "metadata": {},
     "outputs": []
    },
    {
     "cell_type": "code",
     "collapsed": false,
     "input": [
      "x, y, z = geocentric.position.km\n",
      "isnan(x[:20])\n",
      "plot(offsets, 0.1 + isnan(x))\n",
      "#xlim(-1000, 4000)\n",
      "xlim(3500, 4000)"
     ],
     "language": "python",
     "metadata": {},
     "outputs": []
    },
    {
     "cell_type": "code",
     "collapsed": false,
     "input": [
      "x, y, z = geocentric.position.km\n",
      "print(jd.utc_jpl()[0])\n",
      "#print(x)\n",
      "plot(offsets, x)"
     ],
     "language": "python",
     "metadata": {},
     "outputs": []
    },
    {
     "cell_type": "code",
     "collapsed": false,
     "input": [
      "plot(x, y)"
     ],
     "language": "python",
     "metadata": {},
     "outputs": []
    },
    {
     "cell_type": "code",
     "collapsed": false,
     "input": [],
     "language": "python",
     "metadata": {},
     "outputs": []
    }
   ],
   "metadata": {}
  }
 ]
}