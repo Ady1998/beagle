{
 "metadata": {
  "name": "",
  "signature": "sha256:2d9f3b44436681588936170827386ef712476068b2301ff0d53b40f7a6200f8e"
 },
 "nbformat": 3,
 "nbformat_minor": 0,
 "worksheets": [
  {
   "cells": [
    {
     "cell_type": "code",
     "collapsed": false,
     "input": [
      "%pylab inline"
     ],
     "language": "python",
     "metadata": {},
     "outputs": []
    },
    {
     "cell_type": "code",
     "collapsed": false,
     "input": [
      "#elements = \"\"\"ISS (ZARYA)             \n",
      "#1 25544U 98067A   13330.58127943  .00000814  00000-0  21834-4 0  1064\n",
      "#2 25544  51.6484  23.7537 0001246  74.1647  18.7420 15.50540527859894\n",
      "#\"\"\""
     ],
     "language": "python",
     "metadata": {},
     "outputs": []
    },
    {
     "cell_type": "code",
     "collapsed": false,
     "input": [
      "#from skyfield.api import earth\n",
      "#topos = earth.topos('75 W', '35 N')\n",
      "#sat = earth.satellite(elements.splitlines())"
     ],
     "language": "python",
     "metadata": {},
     "outputs": []
    },
    {
     "cell_type": "code",
     "collapsed": false,
     "input": [
      "from matplotlib.dates import HourLocator, DateFormatter\n",
      "from datetime import datetime\n",
      "\n",
      "#from datetime import datetime\n",
      "#d = datetime(2014, 1, 1, 21, 30)\n",
      "#p = topos(d).observe(sat)\n",
      "#alt, az, distance = p.altaz()\n",
      "#print('Altitude: {}'.format(alt))\n",
      "#print('Azimuth: {}'.format(az))\n",
      "#print('Distance: {}'.format(distance.km))"
     ],
     "language": "python",
     "metadata": {},
     "outputs": []
    },
    {
     "cell_type": "code",
     "collapsed": false,
     "input": [
      "from skyfield.api import JulianDate, earth, utc\n",
      "\n",
      "tle = \"\"\"\n",
      "GOCE                    \n",
      "1 34602U 09013A   13314.96046236  .14220718  20669-5  50412-4 0   930\n",
      "2 34602 096.5717 344.5256 0009826 296.2811 064.0942 16.58673376272979\n",
      "\"\"\"\n",
      "sat = earth.satellite(tle)\n",
      "print(sat.epoch.utc_jpl())"
     ],
     "language": "python",
     "metadata": {},
     "outputs": []
    },
    {
     "cell_type": "code",
     "collapsed": false,
     "input": [
      "jd.range()\n",
      "x = jd.toordinal()\n",
      "y = sat.gcrs(jd).distance.km - earth.radius.km\n",
      "plot(x, y)\n",
      "\n",
      "reentry = JulianDate(utc=(2013, 11, 11, 0, 16))\n",
      "\n",
      "for j, label in [(sat.epoch, 'Epoch of TLE data'),\n",
      "                 (reentry, 'Actual moment of re-entry')]:\n",
      "    x = j.toordinal()\n",
      "    y = sat.gcrs(j).distance().km - earth.radius.km\n",
      "    plot(x, y, 'ro')\n",
      "    text(x, y + 10, label)\n",
      "\n",
      "xaxis = axes().xaxis\n",
      "xaxis.set_major_locator(HourLocator([0]))\n",
      "xaxis.set_minor_locator(HourLocator([0, 12]))\n",
      "xaxis.set_major_formatter(DateFormatter('\\n%a %d'))\n",
      "xaxis.set_minor_formatter(DateFormatter('%Hh'))"
     ],
     "language": "python",
     "metadata": {},
     "outputs": []
    },
    {
     "cell_type": "code",
     "collapsed": false,
     "input": [
      "class MyDate(object):\n",
      "    def __init__(self, n):\n",
      "        self.n = n\n",
      "    def toordinal(self):\n",
      "        return self.n\n",
      "\n",
      "x = [MyDate(100), MyDate(101), MyDate(102)]\n",
      "y = [1.0, 2.0, 3.0]\n",
      "plot(x, y)\n",
      "plot(x[1], y[1], 'ro')\n",
      "text(x[1], y[1], '    Midpoint')"
     ],
     "language": "python",
     "metadata": {},
     "outputs": []
    }
   ],
   "metadata": {}
  }
 ]
}